{
  "cells": [
    {
      "cell_type": "markdown",
      "metadata": {
        "id": "view-in-github",
        "colab_type": "text"
      },
      "source": [
        "<a href=\"https://colab.research.google.com/github/yotam-biu/tutorial8/blob/main/pandas_basic.ipynb\" target=\"_parent\"><img src=\"https://colab.research.google.com/assets/colab-badge.svg\" alt=\"Open In Colab\"/></a>"
      ]
    },
    {
      "cell_type": "markdown",
      "source": [
        "base on: \"https://geobgu.xyz/py/pandas1.html\""
      ],
      "metadata": {
        "id": "fk15gYCRtAeA"
      },
      "id": "fk15gYCRtAeA"
    },
    {
      "cell_type": "code",
      "execution_count": null,
      "id": "f85d102f",
      "metadata": {
        "id": "f85d102f"
      },
      "outputs": [],
      "source": [
        "import pandas as pd\n",
        "import numpy as np"
      ]
    },
    {
      "cell_type": "markdown",
      "id": "fa940d0c",
      "metadata": {
        "id": "fa940d0c"
      },
      "source": [
        "# 1\n",
        "Craete series and data-frame"
      ]
    },
    {
      "cell_type": "markdown",
      "source": [
        "## 1.1\n",
        "Run the next cell to create a Pandas Series (a column of data) without a header. Your task is to find a way to add a header to this column.\n",
        "*italicized text*"
      ],
      "metadata": {
        "id": "eO7jtwShtYgm"
      },
      "id": "eO7jtwShtYgm"
    },
    {
      "cell_type": "code",
      "execution_count": null,
      "id": "f085d518",
      "metadata": {
        "id": "f085d518"
      },
      "outputs": [],
      "source": [
        "name = pd.Series(['Beer-Sheva Center', 'Beer-Sheva University', 'Dimona'])\n",
        "name"
      ]
    },
    {
      "cell_type": "markdown",
      "source": [
        "\n",
        "## 1.2\n",
        "The next cell creates a DataFrame that does not include a column for city values. Your task is to add a new column named \"city\" to the DataFrame and populate it with the city values **after the table has been created**."
      ],
      "metadata": {
        "id": "_P9jfRZ-vupX"
      },
      "id": "_P9jfRZ-vupX"
    },
    {
      "cell_type": "code",
      "execution_count": null,
      "id": "8a39be17",
      "metadata": {
        "id": "8a39be17"
      },
      "outputs": [],
      "source": [
        "lines = np.array([4, 5, 1])\n",
        "city = ['Beer-Sheva', 'Beer-Sheva', 'Dimona']\n",
        "piano = [False, True, False]\n",
        "lon = [34.798443, 34.812831, 35.011635]\n",
        "lat = [31.243288, 31.260284, 31.068616]\n",
        "\n",
        "\n",
        "data = {'name': name, 'lines': lines, 'piano': piano, 'lon': lon, 'lat': lat}\n",
        "stations = pd.DataFrame(data)\n",
        "stations"
      ]
    },
    {
      "cell_type": "code",
      "source": [],
      "metadata": {
        "id": "0kii6TIw1Cnx"
      },
      "id": "0kii6TIw1Cnx",
      "execution_count": null,
      "outputs": []
    },
    {
      "cell_type": "markdown",
      "source": [
        "## 1.3\n",
        "Create a new row with made-up values and add it to the DataFrame.  "
      ],
      "metadata": {
        "id": "oP-4aBHMwPBc"
      },
      "id": "oP-4aBHMwPBc"
    },
    {
      "cell_type": "code",
      "execution_count": null,
      "id": "c23f8387",
      "metadata": {
        "id": "c23f8387"
      },
      "outputs": [],
      "source": []
    },
    {
      "cell_type": "markdown",
      "source": [
        "## 1.4\n",
        "Determine the four data types (`dtypes`) of the columns in the DataFrame.  \n",
        "\n",
        "**Hint:** You can use the DataFrame's built-in attribute `dtypes` to check the data types of all columns.**bold text**"
      ],
      "metadata": {
        "id": "nLsOTBznwshN"
      },
      "id": "nLsOTBznwshN"
    },
    {
      "cell_type": "code",
      "execution_count": null,
      "id": "40ee41a1",
      "metadata": {
        "id": "40ee41a1"
      },
      "outputs": [],
      "source": []
    },
    {
      "cell_type": "markdown",
      "id": "599bb29e",
      "metadata": {
        "id": "599bb29e"
      },
      "source": [
        "# 2\n",
        "Change a value"
      ]
    },
    {
      "cell_type": "markdown",
      "source": [
        "## 2.1\n",
        "The Beer-Sheva University train station has added a piano. Update the DataFrame to reflect this change by modifying the value in the \"piano\" column for the relevant row from False to True.\n",
        "\n",
        "**Hint**: You can use `.at` to update a specific cell value efficiently when you know the exact row index and column name.\n",
        "\n",
        "```python\n",
        "df.at[row_index, column_name] = new_value\n",
        "```  "
      ],
      "metadata": {
        "id": "reQEdHgtx-P0"
      },
      "id": "reQEdHgtx-P0"
    },
    {
      "cell_type": "code",
      "execution_count": null,
      "id": "6c5ea86e",
      "metadata": {
        "id": "6c5ea86e"
      },
      "outputs": [],
      "source": []
    },
    {
      "cell_type": "markdown",
      "source": [
        "## 2.2\n",
        "Assign new values to the entire lines column in two ways:\n",
        "1. **Different values for each item**:  \n",
        "   You can assign a list or array of values with the same length as the column.\n",
        "2. **The same value for all items**:  \n",
        "   Assign a single value to the entire column.\n",
        "   ```"
      ],
      "metadata": {
        "id": "dfTsEVeB06-d"
      },
      "id": "dfTsEVeB06-d"
    },
    {
      "cell_type": "code",
      "execution_count": null,
      "id": "3c1da42b",
      "metadata": {
        "id": "3c1da42b"
      },
      "outputs": [],
      "source": []
    },
    {
      "cell_type": "code",
      "execution_count": null,
      "id": "23742e9f",
      "metadata": {
        "id": "23742e9f"
      },
      "outputs": [],
      "source": []
    },
    {
      "cell_type": "markdown",
      "source": [
        "\n",
        "## 2.3\n",
        "Create a new column named \"cafe\" in the DataFrame to indicate whether the station has a cozy café. You can assign values directly, such as True for stations with a café and False otherwise."
      ],
      "metadata": {
        "id": "cWN_A6SY1frZ"
      },
      "id": "cWN_A6SY1frZ"
    },
    {
      "cell_type": "code",
      "execution_count": null,
      "id": "e6382cbf",
      "metadata": {
        "id": "e6382cbf"
      },
      "outputs": [],
      "source": []
    },
    {
      "cell_type": "markdown",
      "id": "d647c205",
      "metadata": {
        "id": "d647c205"
      },
      "source": [
        "# 3\n",
        "Load data-frame\n",
        "\n"
      ]
    },
    {
      "cell_type": "markdown",
      "source": [
        "## **Mission:**  \n",
        "3.1. Save the current DataFrame as a CSV or Excel file.  \n",
        "3.2. Open the saved file in a text editor or spreadsheet software (such as Excel), make a small change to the data, and save the file.  \n",
        "3.3. Reload the modified file back into a DataFrame and inspect the contents to ensure the changes were applied correctly.  \n",
        "\n",
        "**Hints:**  \n",
        "- To save as CSV: `df.to_csv('filename.csv', index=False)`  \n",
        "- To save as Excel: `df.to_excel('filename.xlsx', index=False)`  \n",
        "- To reload a CSV: `pd.read_csv('filename.csv')`  \n",
        "- To reload an Excel file: `pd.read_excel('filename.xlsx')`\n"
      ],
      "metadata": {
        "id": "jHPOpKZp4K1A"
      },
      "id": "jHPOpKZp4K1A"
    },
    {
      "cell_type": "code",
      "execution_count": null,
      "id": "ed7de808",
      "metadata": {
        "id": "ed7de808"
      },
      "outputs": [],
      "source": []
    }
  ],
  "metadata": {
    "kernelspec": {
      "display_name": "Python 3 (ipykernel)",
      "language": "python",
      "name": "python3"
    },
    "language_info": {
      "codemirror_mode": {
        "name": "ipython",
        "version": 3
      },
      "file_extension": ".py",
      "mimetype": "text/x-python",
      "name": "python",
      "nbconvert_exporter": "python",
      "pygments_lexer": "ipython3",
      "version": "3.9.7"
    },
    "colab": {
      "provenance": [],
      "include_colab_link": true
    }
  },
  "nbformat": 4,
  "nbformat_minor": 5
}